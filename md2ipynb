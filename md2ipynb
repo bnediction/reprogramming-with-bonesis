#!/usr/bin/env bash
jupytext "${@}" paper.md --to ipynb
